{
 "cells": [
  {
   "cell_type": "code",
   "execution_count": 6,
   "metadata": {},
   "outputs": [],
   "source": [
    "import cv2\n",
    "import numpy as np\n",
    "import json\n",
    "\n",
    "with open('finalTopClassesToColor.json', 'r') as infile:\n",
    "    classToColor = json.load(infile)\n",
    "    \n",
    "colorToClass = {}\n",
    "for cls in classToColor.keys():\n",
    "    currColor = classToColor[cls]\n",
    "    (R, G, B) = currColor['R'], currColor['G'], currColor['B']\n",
    "    colorToClass[str((R, G, B))] = cls\n",
    "    \n",
    "colorToClass['(63, 0, 111)'] = 'Tree'\n",
    "colorToClass['(63, 159, 111)'] = 'Oak'\n",
    "\n",
    "with open('topClassesToInt.json', 'r') as infile:\n",
    "    classToInt = json.load(infile)\n",
    "    \n",
    "classToInt['Tree'] = 1\n",
    "classToInt['Oak'] = 1\n",
    "\n",
    "with open('finalClassesToInt.json', 'w') as outfile:\n",
    "    json.dump(classToInt, outfile)\n",
    "    \n",
    "with open('finalColorsToClasses.json', 'w') as outfile:\n",
    "    json.dump(colorToClass, outfile)\n"
   ]
  },
  {
   "cell_type": "code",
   "execution_count": null,
   "metadata": {
    "collapsed": true
   },
   "outputs": [],
   "source": []
  }
 ],
 "metadata": {
  "kernelspec": {
   "display_name": "Python [conda env:unrealcv]",
   "language": "python",
   "name": "conda-env-unrealcv-py"
  },
  "language_info": {
   "codemirror_mode": {
    "name": "ipython",
    "version": 2
   },
   "file_extension": ".py",
   "mimetype": "text/x-python",
   "name": "python",
   "nbconvert_exporter": "python",
   "pygments_lexer": "ipython2",
   "version": "2.7.14"
  }
 },
 "nbformat": 4,
 "nbformat_minor": 2
}
