{
 "cells": [
  {
   "cell_type": "markdown",
   "metadata": {},
   "source": [
    "Load some python libraries\n",
    "The dependencies for this tutorials are\n",
    "PIL, Numpy, Matplotlib\n",
    "\n"
   ]
  },
  {
   "cell_type": "code",
   "execution_count": 1,
   "metadata": {
    "collapsed": true
   },
   "outputs": [],
   "source": [
    "from __future__ import division, absolute_import, print_function\n",
    "import os, sys, time, re, json\n",
    "import numpy as np\n",
    "import matplotlib.pyplot as plt\n",
    "from PIL import Image\n",
    "\n",
    "imread = plt.imread\n",
    "def imread8(im_file):\n",
    "    ''' Read image as a 8-bit numpy array '''\n",
    "    im = np.asarray(Image.open(im_file))\n",
    "    return im\n",
    "\n",
    "def read_png(res):\n",
    "    img = Image.open(res)\n",
    "    return np.asarray(img)\n",
    "\n",
    "def read_npy(res):\n",
    "    return np.load(res)"
   ]
  },
  {
   "cell_type": "markdown",
   "metadata": {},
   "source": [
    "Connect to the game\n",
    "===================\n",
    "Load unrealcv python client, do :code:`pip install unrealcv` first.\n",
    "\n"
   ]
  },
  {
   "cell_type": "code",
   "execution_count": 2,
   "metadata": {},
   "outputs": [
    {
     "name": "stderr",
     "output_type": "stream",
     "text": [
      "INFO:__init__:204:Got connection confirm: 'connected to NeighborhoodCV'\n"
     ]
    }
   ],
   "source": [
    "from unrealcv import client\n",
    "client.connect()\n",
    "if not client.isconnected():\n",
    "    print('UnrealCV server is not running. Run the game downloaded from http://unrealcv.github.io first.')\n",
    "    sys.exit(-1)"
   ]
  },
  {
   "cell_type": "markdown",
   "metadata": {},
   "source": [
    "Make sure the connection works well\n",
    "\n"
   ]
  },
  {
   "cell_type": "code",
   "execution_count": 3,
   "metadata": {},
   "outputs": [
    {
     "name": "stdout",
     "output_type": "stream",
     "text": [
      "Is Listening\n",
      "Client Connected\n",
      "9000\n",
      "\n"
     ]
    }
   ],
   "source": [
    "res = client.request('vget /unrealcv/status')\n",
    "# The image resolution and port is configured in the config file.\n",
    "print(res)"
   ]
  },
  {
   "cell_type": "markdown",
   "metadata": {},
   "source": [
    "Ground truth generation\n",
    "=======================\n",
    "Generate ground truth from this virtual scene\n",
    "\n"
   ]
  },
  {
   "cell_type": "code",
   "execution_count": 5,
   "metadata": {},
   "outputs": [
    {
     "data": {
      "text/plain": [
       "<matplotlib.image.AxesImage at 0xaa31dd8>"
      ]
     },
     "execution_count": 5,
     "metadata": {},
     "output_type": "execute_result"
    }
   ],
   "source": [
    "res = client.request('vget /camera/0/object_mask png')\n",
    "object_mask = read_png(res)\n",
    "res = client.request('vget /camera/0/normal png')\n",
    "normal = read_png(res)\n",
    "\n",
    "# Visualize the captured ground truth\n",
    "plt.imshow(object_mask)\n",
    "plt.figure()\n",
    "plt.imshow(normal)"
   ]
  },
  {
   "cell_type": "markdown",
   "metadata": {},
   "source": [
    "Get objects\n",
    "======================\n",
    "Write a json file with the object and their corresponding classes.\n",
    "\n"
   ]
  },
  {
   "cell_type": "code",
   "execution_count": 7,
   "metadata": {},
   "outputs": [
    {
     "name": "stdout",
     "output_type": "stream",
     "text": [
      "Number of objects in this scene: 3762\n"
     ]
    }
   ],
   "source": [
    "scene_objects = client.request('vget /objects').split(' ')\n",
    "print('Number of objects in this scene:', len(scene_objects))\n",
    "\n",
    "data = {}\n",
    "\n",
    "for obj_id in scene_objects:\n",
    "    obj_id_parts = obj_id.split('_')\n",
    "    class_name = obj_id_parts[0]    \n",
    "    data[obj_id] = class_name\n",
    "\n",
    "# Write JSON file\n",
    "import json\n",
    "with open('neighborhood_classes.json', 'w') as outfile:\n",
    "    json.dump(data, outfile)"
   ]
  },
  {
   "cell_type": "markdown",
   "metadata": {},
   "source": [
    "Get object colors\n",
    "======================\n",
    "Map the objects to their labeling colors\n",
    "\n"
   ]
  },
  {
   "cell_type": "code",
   "execution_count": null,
   "metadata": {},
   "outputs": [
    {
     "name": "stdout",
     "output_type": "stream",
     "text": [
      "Number of objects in this scene: 3762\n",
      "0. WorldSettings_1 : (R=0,G=0,B=0,A=255)\n",
      "1. InstancedFoliageActor_0 : (R=0,G=0,B=255,A=255)\n",
      "2. SkySphere : (R=0,G=255,B=0,A=255)\n",
      "3. Landscape_0 : (R=0,G=255,B=255,A=255)\n",
      "4. Road_2 : (R=255,G=0,B=0,A=255)\n",
      "5. Road_3 : (R=255,G=0,B=255,A=255)\n",
      "6. Road_5 : (R=255,G=255,B=0,A=255)\n",
      "7. Road_7 : (R=255,G=255,B=255,A=255)\n",
      "8. Road_9 : (R=0,G=0,B=127,A=255)\n",
      "9. Road_10 : (R=0,G=255,B=127,A=255)\n",
      "10. Road_11 : (R=255,G=0,B=127,A=255)\n",
      "11. Road_12 : (R=255,G=255,B=127,A=255)\n",
      "12. Road_13 : (R=0,G=127,B=0,A=255)\n",
      "13. Road_14 : (R=0,G=127,B=255,A=255)\n",
      "14. Road_15 : (R=255,G=127,B=0,A=255)\n",
      "15. Road_17 : (R=255,G=127,B=255,A=255)\n",
      "16. Road_18 : (R=0,G=127,B=127,A=255)\n",
      "17. Road_19 : (R=255,G=127,B=127,A=255)\n",
      "18. Road_20 : (R=127,G=0,B=0,A=255)\n",
      "19. Road_21 : (R=127,G=0,B=255,A=255)\n",
      "20. Road_22 : (R=127,G=255,B=0,A=255)\n",
      "21. Road_23 : (R=127,G=255,B=255,A=255)\n",
      "22. Road_24 : (R=127,G=0,B=127,A=255)\n",
      "23. Road_25 : (R=127,G=255,B=127,A=255)\n",
      "24. Road_26 : (R=127,G=127,B=0,A=255)\n",
      "25. Road_27 : (R=127,G=127,B=255,A=255)\n",
      "26. Road_28 : (R=127,G=127,B=127,A=255)\n",
      "27. Road_29 : (R=0,G=0,B=63,A=255)\n",
      "28. Road_30 : (R=0,G=255,B=63,A=255)\n",
      "29. Road_31 : (R=0,G=127,B=63,A=255)\n",
      "30. Road_32 : (R=255,G=0,B=63,A=255)\n",
      "31. Road_33 : (R=255,G=255,B=63,A=255)\n",
      "32. Road_34 : (R=255,G=127,B=63,A=255)\n",
      "33. Road_35 : (R=127,G=0,B=63,A=255)\n",
      "34. Road_36 : (R=127,G=255,B=63,A=255)\n",
      "35. Road_37 : (R=127,G=127,B=63,A=255)\n",
      "36. Road_38 : (R=0,G=63,B=0,A=255)\n",
      "37. Road_39 : (R=0,G=63,B=255,A=255)\n",
      "38. Road_40 : (R=0,G=63,B=127,A=255)\n",
      "39. Road_41 : (R=255,G=63,B=0,A=255)\n",
      "40. Road_42 : (R=255,G=63,B=255,A=255)\n",
      "41. Road_43 : (R=255,G=63,B=127,A=255)\n",
      "42. Road_44 : (R=127,G=63,B=0,A=255)\n",
      "43. Road_45 : (R=127,G=63,B=255,A=255)\n",
      "44. Road_46 : (R=127,G=63,B=127,A=255)\n",
      "45. Road_47 : (R=0,G=63,B=63,A=255)\n",
      "46. Road_49 : (R=255,G=63,B=63,A=255)\n",
      "47. Road_50 : (R=127,G=63,B=63,A=255)\n",
      "48. Road_51 : (R=63,G=0,B=0,A=255)\n",
      "49. Road_52 : (R=63,G=0,B=255,A=255)\n",
      "50. Road_53 : (R=63,G=0,B=127,A=255)\n",
      "51. Road_54 : (R=63,G=255,B=0,A=255)\n",
      "52. Road_55 : (R=63,G=255,B=255,A=255)\n",
      "53. Road_56 : (R=63,G=255,B=127,A=255)\n",
      "54. Road_57 : (R=63,G=127,B=0,A=255)\n",
      "55. Road_58 : (R=63,G=127,B=255,A=255)\n",
      "56. Road_59 : (R=63,G=127,B=127,A=255)\n",
      "57. Road_60 : (R=63,G=0,B=63,A=255)\n",
      "58. Road_61 : (R=63,G=255,B=63,A=255)\n",
      "59. Road_62 : (R=63,G=127,B=63,A=255)\n",
      "60. Road_63 : (R=63,G=63,B=0,A=255)\n",
      "61. Road_65 : (R=63,G=63,B=255,A=255)\n",
      "62. Road_86 : (R=63,G=63,B=127,A=255)\n",
      "63. Road_87 : (R=63,G=63,B=63,A=255)\n",
      "64. Road_66 : (R=0,G=0,B=191,A=255)\n",
      "65. Road_67 : (R=0,G=255,B=191,A=255)\n",
      "66. Road_68 : (R=0,G=127,B=191,A=255)\n",
      "67. Road_69 : (R=0,G=63,B=191,A=255)\n",
      "68. Road_70 : (R=255,G=0,B=191,A=255)\n",
      "69. Road_71 : (R=255,G=255,B=191,A=255)\n",
      "70. Road_72 : (R=255,G=127,B=191,A=255)\n",
      "71. Road_73 : (R=255,G=63,B=191,A=255)\n",
      "72. Road_74 : (R=127,G=0,B=191,A=255)\n",
      "73. Road_75 : (R=127,G=255,B=191,A=255)\n",
      "74. Road_76 : (R=127,G=127,B=191,A=255)\n",
      "75. Road_77 : (R=127,G=63,B=191,A=255)\n",
      "76. Road_78 : (R=63,G=0,B=191,A=255)\n",
      "77. Road_79 : (R=63,G=255,B=191,A=255)\n",
      "78. Road_80 : (R=63,G=127,B=191,A=255)\n",
      "79. Road_82 : (R=63,G=63,B=191,A=255)\n",
      "80. Road_83 : (R=0,G=191,B=0,A=255)\n",
      "81. Road_84 : (R=0,G=191,B=255,A=255)\n",
      "82. Road_85 : (R=0,G=191,B=127,A=255)\n",
      "83. Road_105 : (R=0,G=191,B=63,A=255)\n",
      "84. Road_106 : (R=255,G=191,B=0,A=255)\n",
      "85. Road_88 : (R=255,G=191,B=255,A=255)\n",
      "86. Road_89 : (R=255,G=191,B=127,A=255)\n",
      "87. Road_90 : (R=255,G=191,B=63,A=255)\n",
      "88. Road_91 : (R=127,G=191,B=0,A=255)\n",
      "89. Road_93 : (R=127,G=191,B=255,A=255)\n",
      "90. Road_94 : (R=127,G=191,B=127,A=255)\n",
      "91. Road_95 : (R=127,G=191,B=63,A=255)\n",
      "92. Road_96 : (R=63,G=191,B=0,A=255)\n",
      "93. Floor_01_Basic_109 : (R=63,G=191,B=255,A=255)\n",
      "94. Floor_01_Basic2 : (R=63,G=191,B=127,A=255)\n",
      "95. Floor_01_Basic3 : (R=63,G=191,B=63,A=255)\n",
      "96. Floor_01_Basic4 : (R=0,G=191,B=191,A=255)\n",
      "97. Floor_01_Basic5 : (R=255,G=191,B=191,A=255)\n",
      "98. Floor_01_Basic6 : (R=127,G=191,B=191,A=255)\n",
      "99. Floor_01_Basic7 : (R=63,G=191,B=191,A=255)\n",
      "100. Floor_01_Basic8 : (R=191,G=0,B=0,A=255)\n",
      "101. Floor_01_Basic9 : (R=191,G=0,B=255,A=255)\n",
      "102. Floor_01_Basic10 : (R=191,G=0,B=127,A=255)\n",
      "103. Floor_01_Basic11 : (R=191,G=0,B=63,A=255)\n",
      "104. Floor_01_Basic12 : (R=191,G=255,B=0,A=255)\n",
      "105. Floor_01_Basic13 : (R=191,G=255,B=255,A=255)\n",
      "106. Floor_01_Basic25 : (R=191,G=255,B=127,A=255)\n",
      "107. Floor_01_Basic27 : (R=191,G=255,B=63,A=255)\n"
     ]
    }
   ],
   "source": [
    "# TODO: replace this with a better implementation\n",
    "class Color(object):\n",
    "    ''' A utility class to parse color value '''\n",
    "    regexp = re.compile('\\(R=(.*),G=(.*),B=(.*),A=(.*)\\)')\n",
    "    def __init__(self, color_str):\n",
    "        self.color_str = color_str\n",
    "        match = self.regexp.match(color_str)\n",
    "        (self.R, self.G, self.B, self.A) = [int(match.group(i)) for i in range(1,5)]\n",
    "\n",
    "    def __repr__(self):\n",
    "        return self.color_str\n",
    "\n",
    "id2color = {} # Map from object id to the labeling color\n",
    "for i, obj_id in enumerate(scene_objects):\n",
    "    color = Color(client.request('vget /object/%s/color' % obj_id))\n",
    "    id2color[obj_id] = color\n",
    "    print('%d. %s : %s' % (i, obj_id, str(color)))"
   ]
  },
  {
   "cell_type": "markdown",
   "metadata": {},
   "source": [
    "Parse the segmentation mask\n",
    "\n"
   ]
  },
  {
   "cell_type": "code",
   "execution_count": 18,
   "metadata": {},
   "outputs": [
    {
     "name": "stdout",
     "output_type": "stream",
     "text": [
      "WorldInfo_0\n",
      "Carpet_5\n",
      "SM_CoffeeTable_14\n",
      "Couch_13\n",
      "SM_Room_7\n",
      "SM_Room_OuterShell_14\n",
      "SM_Couch_1seat_5\n",
      "Mug_22\n",
      "EditorPlane_23\n",
      "EditorPlane_24\n",
      "EditorPlane_25\n",
      "EditorPlane_26\n",
      "EditorPlane_27\n",
      "Mug_30\n",
      "EditorPlane_31\n",
      "EditorPlane_32\n",
      "EditorPlane_33\n",
      "EditorPlane_34\n",
      "SlidingDoors_5\n",
      "S_Trim_Floor_10\n",
      "SM_Frame_15\n",
      "SM_RoundCeilingLight_9\n",
      "SM_RoundCeilingLight_10\n",
      "SM_RoundCeilingLight_11\n",
      "SM_RoundCeilingLight_12\n",
      "SM_RoundCeilingLight_13\n",
      "SM_RoundCeilingLight_14\n",
      "SM_RoundCeilingLight_16\n",
      "SM_RoundCeilingLight_17\n",
      "SM_Railing_20\n",
      "SM_Railing_21\n",
      "SM_Railing_23\n",
      "SM_Railing_24\n",
      "SM_Railing_25\n",
      "SM_Railing_26\n",
      "SM_Railing_27\n",
      "SM_Railing_28\n",
      "SM_Railing_29\n",
      "SM_Balcony_34\n",
      "SM_Balcony_35\n",
      "SM_Balcony_36\n",
      "SM_Balcony_37\n",
      "SM_Frame_38\n",
      "SM_Frame_39\n",
      "SM_Curtain_42\n",
      "SM_Curtain_43\n",
      "SM_Curtain_45\n",
      "Statue_48\n",
      "SM_FloorLamp_5\n",
      "SM_FloorLamp_7\n",
      "SM_FloorLamp_8\n",
      "SM_TV_5\n",
      "SM_DeskLamp_5\n",
      "SM_Background_8\n",
      "WallPiece1_22\n",
      "WallPiece2_24\n",
      "WallPiece3_26\n",
      "WallPiece4_28\n",
      "WallPiece5_30\n",
      "WallPiece6_32\n",
      "SM_Door_37\n",
      "SM_Door_39\n",
      "SM_Door_41\n",
      "SM_Shelving_6\n",
      "SM_Shelving_7\n",
      "SM_Shelving_8\n",
      "SM_Shelving_9\n",
      "SM_Shelving_10\n",
      "SM_Shelving_12\n",
      "SM_Frame_3\n",
      "SM_Frame_4\n",
      "SM_Frame_5\n",
      "SM_BlackBox_Hole_16\n",
      "SM_BlackBox_23\n",
      "SM_BlackBox_24\n",
      "SM_BlackBox_25\n",
      "SM_BlackBox_26\n",
      "SM_BlackBox_27\n",
      "SM_Railing_30\n",
      "SM_Railing_31\n",
      "SM_Railing_32\n",
      "SM_Railing_33\n",
      "SM_Railing_34\n",
      "SM_Railing_35\n",
      "SM_Railing_36\n",
      "SM_Railing_37\n",
      "SM_Railing_38\n",
      "Switch_7\n",
      "Switch_8\n",
      "Switch_10\n",
      "SM_Socket_15\n",
      "SM_Socket_22\n",
      "SM_Socket_24\n",
      "SM_Socket_25\n",
      "SM_Socket_26\n",
      "SM_Socket_27\n",
      "Switch_29\n",
      "Switch_2\n",
      "SM_RoundCeilingLight_4\n",
      "Carpet_7\n",
      "Plug_12\n",
      "Wire1_23\n",
      "SM_Plant_7\n",
      "SM_Plant_8\n",
      "SM_Vase_13\n",
      "SM_Vase_14\n",
      "SM_Vase_15\n",
      "SM_Vase_16\n",
      "SM_Vase_17\n",
      "SM_Vase_18\n",
      "SM_Vase_19\n",
      "SM_Vase_20\n",
      "SM_Vase_21\n",
      "SM_Vase_22\n",
      "SM_Bowl_27\n",
      "SM_Bowl_28\n",
      "SM_Bowl_29\n",
      "SM_Vase_30\n",
      "SM_Vase_31\n",
      "SM_Socket_11\n",
      "Plug_24\n",
      "Wire1_25\n",
      "Wire1_27\n",
      "Plug_28\n",
      "Wire1_30\n",
      "Wire1_20\n",
      "Plug_21\n",
      "SM_Socket_12\n",
      "Plug_13\n",
      "Wire1_14\n",
      "Wire1_15\n",
      "Plug_16\n",
      "Wire1_17\n",
      "CoatHookBacking_7\n",
      "CoatHook_16\n",
      "CoatHook_17\n",
      "CoatHook_18\n",
      "CoatHook_19\n",
      "Wire1_18\n",
      "Plug_19\n",
      "BookLP_5\n",
      "BookLP_11\n",
      "BookLP_12\n",
      "BookLP_13\n",
      "BookLP_14\n",
      "BookLP_15\n",
      "BookLP_16\n",
      "BookLP_29\n",
      "BookLP_30\n",
      "BookLP_31\n",
      "BookLP_32\n",
      "BookLP_33\n",
      "BookLP_34\n",
      "BookLP_35\n",
      "BookLP_36\n",
      "BookLP_37\n",
      "BookLP_38\n",
      "BookLP_39\n",
      "BookLP_40\n",
      "BookLP_41\n",
      "BookLP_42\n",
      "BookLP_43\n",
      "BookLP_44\n",
      "BookLP_45\n",
      "BookLP_46\n",
      "BookLP_47\n",
      "BookLP_48\n",
      "BookLP_49\n",
      "BookLP_50\n",
      "BookLP_51\n",
      "BookLP_52\n",
      "BookLP_53\n",
      "BookLP_54\n",
      "BookLP_55\n",
      "BookLP_56\n",
      "BookLP_57\n",
      "BookLP_58\n",
      "BookLP_59\n",
      "BookLP_60\n",
      "BookLP_61\n",
      "BookLP_62\n",
      "BookLP_63\n",
      "BookLP_64\n",
      "BookLP_65\n",
      "BookLP_66\n",
      "BookLP_67\n",
      "BookLP_68\n",
      "BookLP_69\n",
      "BookLP_70\n",
      "BookLP_71\n",
      "BookLP_72\n",
      "BookLP_73\n",
      "BookLP_74\n",
      "BookLP_75\n",
      "BookLP_81\n",
      "BookLP_82\n",
      "BookLP_83\n",
      "BookLP_84\n",
      "BookLP_85\n",
      "BookLP_86\n",
      "BookLP_87\n",
      "BookLP_88\n",
      "BookLP_89\n",
      "BookLP_90\n",
      "BookLP_91\n",
      "BookLP_92\n",
      "BookLP_93\n",
      "BookLP_94\n",
      "BookLP_95\n",
      "BookLP_96\n",
      "BookLP_97\n",
      "BookLP_98\n",
      "BookLP_99\n",
      "BookLP_100\n",
      "BookLP_101\n",
      "BookLP_102\n",
      "BookLP_103\n",
      "BookLP_104\n",
      "BookLP_105\n",
      "BookLP_106\n",
      "BookLP_107\n",
      "BookLP_108\n",
      "BookLP_109\n",
      "BookLP_110\n",
      "BookLP_111\n",
      "BookLP_112\n",
      "BookLP_113\n",
      "BookLP_114\n",
      "BookLP_115\n",
      "BookLP_116\n",
      "BookLP_117\n",
      "BookLP_118\n",
      "BookLP_119\n",
      "BookLP_120\n",
      "BookLP_121\n",
      "BookLP_122\n",
      "BookLP_123\n",
      "BookLP_124\n",
      "BookLP_125\n",
      "BookLP_126\n",
      "BookLP_127\n",
      "BookLP_128\n",
      "BookLP_129\n",
      "BookLP_130\n",
      "BookLP_131\n",
      "BookLP_132\n",
      "BookLP_133\n",
      "BookLP_134\n",
      "BookLP_135\n",
      "BookLP_136\n",
      "BookLP_137\n",
      "BookLP_138\n",
      "BookLP_139\n",
      "BookLP_140\n",
      "BookLP_141\n",
      "BookLP_142\n",
      "BookLP_143\n",
      "BookLP_144\n",
      "BookLP_145\n",
      "BookLP_146\n",
      "BookLP_147\n",
      "BookLP_148\n",
      "BookLP_149\n",
      "BookLP_150\n",
      "BookLP_151\n",
      "BookLP_152\n",
      "BookLP_153\n",
      "BookLP_154\n",
      "BookLP_155\n",
      "BookLP_156\n",
      "BookLP_157\n",
      "BookLP_158\n",
      "BookLP_159\n",
      "BookLP_160\n",
      "BookLP_161\n",
      "BookLP_162\n",
      "BookLP_163\n",
      "BookLP_164\n",
      "BookLP_165\n",
      "BookLP_166\n",
      "BookLP_167\n",
      "BookLP_168\n",
      "BookLP_169\n",
      "BookLP_170\n",
      "BookLP_171\n",
      "BookLP_172\n",
      "BookLP_173\n",
      "BookLP_174\n",
      "BookLP_175\n",
      "BookLP_176\n",
      "BookLP_177\n",
      "BookLP_178\n",
      "BookLP_179\n",
      "BookLP_181\n",
      "BookLP_182\n",
      "CameraActor_0\n",
      "CameraActor_1\n",
      "EditorSkySphere_4\n",
      "CameraActor_2\n",
      "256\n"
     ]
    }
   ],
   "source": [
    "# Matches a color from the object_mask and then returns that region color\n",
    "def match_color(object_mask, target_color, tolerance=3):\n",
    "    match_region = np.ones(object_mask.shape[0:2], dtype=bool)\n",
    "    for c in range(3): # r,g,b\n",
    "        min_val = target_color[c] - tolerance\n",
    "        max_val = target_color[c] + tolerance\n",
    "        channel_region = (object_mask[:,:,c] >= min_val) & (object_mask[:,:,c] <= max_val)\n",
    "        match_region &= channel_region\n",
    "\n",
    "    if match_region.sum() != 0:\n",
    "        return match_region\n",
    "    else:\n",
    "        return None\n",
    "\n",
    "id2mask = {}\n",
    "for obj_id in scene_objects:\n",
    "    print(obj_id)\n",
    "    color = id2color[obj_id]\n",
    "    mask = match_color(object_mask, [color.R, color.G, color.B], tolerance = 3)\n",
    "    if mask is not None:\n",
    "        id2mask[obj_id] = mask\n",
    "\n",
    "# id2mask.keys() are all the matched objects\n",
    "for idmask in id2mask.keys():\n",
    "    print(idmask)\n",
    "\n",
    "# This may take a while\n",
    "# TODO: Need to find a faster implementation for this"
   ]
  },
  {
   "cell_type": "markdown",
   "metadata": {},
   "source": [
    "Group the matched objects\n",
    "==============="
   ]
  },
  {
   "cell_type": "code",
   "execution_count": null,
   "metadata": {
    "collapsed": true
   },
   "outputs": [],
   "source": [
    "class_groups = {}\n",
    "\n",
    "# Go through the matched objects\n",
    "for idmask in id2mask.keys():\n",
    "    \n",
    "    # Get the class from the data object we had earlier for json file\n",
    "    curr_class = data[idmask]\n",
    "    \n",
    "    # If the class is not in the class_groups map, add it\n",
    "    if curr_class not in class_groups:\n",
    "        class_groups[curr_class] = [] \n",
    "        \n",
    "    # Add the idmask to it's corresponding class\n",
    "    class_groups[curr_class].append(idmask)"
   ]
  },
  {
   "cell_type": "markdown",
   "metadata": {},
   "source": [
    "Begin normalization by class\n",
    "======="
   ]
  },
  {
   "cell_type": "code",
   "execution_count": null,
   "metadata": {
    "collapsed": true
   },
   "outputs": [],
   "source": [
    "for cls in class_groups.keys():\n",
    "    "
   ]
  },
  {
   "cell_type": "markdown",
   "metadata": {},
   "source": [
    "Print statistics of this virtual scene and this image\n",
    "=====================================================\n",
    "Load information of this scene\n",
    "\n"
   ]
  },
  {
   "cell_type": "code",
   "execution_count": 20,
   "metadata": {},
   "outputs": [
    {
     "name": "stdout",
     "output_type": "stream",
     "text": [
      "Number of objects in this image: 123\n",
      "       Category name : Object name\n",
      "            Shelving : ['SM_Shelving_7', 'SM_Shelving_6', 'SM_Shelving_9', 'SM_Shelving_8']\n",
      "                Bowl : ['SM_Bowl_29']\n",
      "               Couch : ['SM_Couch_1seat_5', 'Couch_13']\n",
      "                Book : ['BookLP_139', 'BookLP_153', 'BookLP_134', 'BookLP_135', 'BookLP_136', 'BookLP_137', '...']\n",
      "            DeskLamp : ['SM_DeskLamp_5']\n",
      "     CoatHookBacking : ['CoatHookBacking_7']\n",
      "               Plant : ['SM_Plant_8']\n",
      "                Door : ['SM_Door_39']\n",
      "          Trim_Floor : ['S_Trim_Floor_10']\n",
      "                Vase : ['SM_Vase_22', 'SM_Vase_21', 'SM_Vase_20', 'SM_Vase_18', 'SM_Vase_16', 'SM_Vase_17']\n",
      "              Carpet : ['Carpet_7']\n",
      "           FloorLamp : ['SM_FloorLamp_7']\n",
      "              Switch : ['Switch_7']\n",
      "               Frame : ['SM_Frame_39']\n",
      "           WallPiece : ['WallPiece6_32', 'WallPiece2_24', 'WallPiece1_22', 'WallPiece3_26']\n",
      "            CoatHook : ['CoatHook_17', 'CoatHook_16']\n"
     ]
    }
   ],
   "source": [
    "with open('object_category.json') as f:\n",
    "    id2category = json.load(f)\n",
    "categories = set(id2category.values())\n",
    "# Show statistics of this frame\n",
    "image_objects = id2mask.keys()\n",
    "print('Number of objects in this image:', len(image_objects))\n",
    "print('%20s : %s' % ('Category name', 'Object name'))\n",
    "for category in categories:\n",
    "    objects = [v for v in image_objects if id2category.get(v) == category]\n",
    "    if len(objects) > 6: # Trim the list if too long\n",
    "        objects[6:] = ['...']\n",
    "    if len(objects) != 0:\n",
    "        print('%20s : %s' % (category, objects))"
   ]
  },
  {
   "cell_type": "markdown",
   "metadata": {},
   "source": [
    "Show the annotation color of some objects\n",
    "\n"
   ]
  },
  {
   "cell_type": "code",
   "execution_count": null,
   "metadata": {
    "collapsed": true
   },
   "outputs": [],
   "source": [
    "ids = ['SM_Couch_1seat_5', 'SM_Vase_17', 'SM_Shelving_6', 'SM_Plant_8']\n",
    "# for obj_id in ids:\n",
    "obj_id = ids[0]\n",
    "color = id2color[obj_id]\n",
    "print('%s : %s' % (obj_id, str(color)))\n",
    "# color_block = np.zeros((100,100, 3)) + np.array([color.R, color.G, color.B]) / 255.0\n",
    "# plt.figure(); plt.imshow(color_block); plt.title(obj_id)"
   ]
  },
  {
   "cell_type": "markdown",
   "metadata": {},
   "source": [
    "Plot only one object\n",
    "\n"
   ]
  },
  {
   "cell_type": "code",
   "execution_count": null,
   "metadata": {
    "collapsed": true
   },
   "outputs": [],
   "source": [
    "mask = id2mask['SM_Plant_8']\n",
    "plt.figure(); plt.imshow(mask)"
   ]
  },
  {
   "cell_type": "markdown",
   "metadata": {},
   "source": [
    "Show all sofas in this image\n",
    "\n"
   ]
  },
  {
   "cell_type": "code",
   "execution_count": null,
   "metadata": {
    "collapsed": true
   },
   "outputs": [],
   "source": [
    "couch_instance = [v for v in image_objects if id2category.get(v) == 'Couch']\n",
    "mask = sum(id2mask[v] for v in couch_instance)\n",
    "plt.figure(); plt.imshow(mask)"
   ]
  },
  {
   "cell_type": "markdown",
   "metadata": {},
   "source": [
    "Change the annotation color, fixed in v0.3.9\n",
    "You can use this to make objects you don't care the same color\n",
    "\n"
   ]
  },
  {
   "cell_type": "code",
   "execution_count": null,
   "metadata": {
    "collapsed": true
   },
   "outputs": [],
   "source": [
    "client.request('vset /object/SM_Couch_1seat_5/color 255 0 0') # Change to pure red\n",
    "client.request('vget /object/SM_Couch_1seat_5/color')\n",
    "res = client.request('vget /camera/0/object_mask png')\n",
    "object_mask = read_png(res)\n",
    "plt.imshow(object_mask)"
   ]
  },
  {
   "cell_type": "markdown",
   "metadata": {},
   "source": [
    "Clean up resources\n",
    "==================\n",
    "\n"
   ]
  },
  {
   "cell_type": "code",
   "execution_count": null,
   "metadata": {
    "collapsed": true
   },
   "outputs": [],
   "source": [
    "client.disconnect()"
   ]
  }
 ],
 "metadata": {
  "kernelspec": {
   "display_name": "unrealcv",
   "language": "python",
   "name": "unrealcv"
  },
  "language_info": {
   "codemirror_mode": {
    "name": "ipython",
    "version": 2
   },
   "file_extension": ".py",
   "mimetype": "text/x-python",
   "name": "python",
   "nbconvert_exporter": "python",
   "pygments_lexer": "ipython2",
   "version": "2.7.14"
  }
 },
 "nbformat": 4,
 "nbformat_minor": 1
}
