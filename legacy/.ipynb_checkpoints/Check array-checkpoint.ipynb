{
 "cells": [
  {
   "cell_type": "code",
   "execution_count": 11,
   "metadata": {},
   "outputs": [
    {
     "name": "stdout",
     "output_type": "stream",
     "text": [
      "./batch/round3/seg0.png\n",
      "(u'Power', 8)\n",
      "(u'Cladding', 6)\n",
      "(u'Small', 19)\n",
      "(u'Tree', 1)\n",
      "(u'Chimney', 12)\n",
      "(u'Roof', 16)\n",
      "(u'Road', 20)\n",
      "(u'Driveway', 26)\n",
      "(u'Plug', 14)\n",
      "(u'Outer', 2)\n",
      "(u'Porch', 9)\n",
      "(u'Fence', 22)\n",
      "(u'Car', 15)\n",
      "(u'Garden', 7)\n",
      "(u'Hedge', 11)\n",
      "(u'Garage', 17)\n",
      "(u'Wall', 23)\n",
      "(u'Inner', 27)\n",
      "(u'Structural', 13)\n",
      "Number of classes: 19\n",
      "(900L, 1440L)\n"
     ]
    },
    {
     "data": {
      "text/plain": [
       "True"
      ]
     },
     "execution_count": 11,
     "metadata": {},
     "output_type": "execute_result"
    }
   ],
   "source": [
    "import numpy as np\n",
    "import cv2\n",
    "import json\n",
    "\n",
    "listclasses = []\n",
    "for i in range(3,4):\n",
    "    img = cv2.imread('./batch/round' + str(i) + '/seg0.png')\n",
    "    print('./batch/round' + str(i) + '/seg0.png')\n",
    "    for k in np.unique(img):\n",
    "        listclasses.append(k)\n",
    "        \n",
    "with open('topClassesToInt.json', 'r') as infile:\n",
    "    topClassesToInt = json.load(infile)\n",
    "\n",
    "topIntsToClasses = {}\n",
    "for cls in topClassesToInt.keys():\n",
    "    topIntsToClasses[topClassesToInt[cls]] = cls\n",
    "\n",
    "listclasses.remove(0)\n",
    "for l in set(listclasses):\n",
    "    print(topIntsToClasses[l/8], l/8)\n",
    "    \n",
    "print(\"Number of classes: \" +  str(len(set(listclasses))))\n",
    "\n",
    "img = cv2.imread('./batch/round3/seg0.png', 0)\n",
    "[m,n] = img.shape[:2]\n",
    "res = np.zeros((m,n))\n",
    "\n",
    "print(img.shape)\n",
    "\n",
    "for i in range(m):\n",
    "    for j in range(n):\n",
    "        if img[i][j] == 8:\n",
    "            res[i][j] = 50\n",
    "            \n",
    "cv2.imwrite('./batch/round3/res.png',res)\n"
   ]
  },
  {
   "cell_type": "code",
   "execution_count": 53,
   "metadata": {},
   "outputs": [
    {
     "name": "stdout",
     "output_type": "stream",
     "text": [
      "(0, u'Hedge', {u'A': 255, u'R': 95, u'B': 175, u'G': 191}, 1682)\n",
      "(1, u'Road', {u'A': 255, u'R': 95, u'B': 127, u'G': 111}, 674)\n",
      "(2, u'Outer', {u'A': 255, u'R': 191, u'B': 0, u'G': 127}, 661)\n",
      "(3, u'Roof', {u'A': 255, u'R': 79, u'B': 63, u'G': 255}, 376)\n",
      "(4, u'Fir', {u'A': 255, u'R': 95, u'B': 95, u'G': 31}, 354)\n",
      "(5, u'Wall', {u'A': 255, u'R': 15, u'B': 255, u'G': 15}, 329)\n",
      "(6, u'Driveway', {u'A': 255, u'R': 191, u'B': 0, u'G': 95}, 327)\n",
      "(7, u'Fence', {u'A': 255, u'R': 0, u'B': 79, u'G': 143}, 266)\n",
      "(8, u'Small', {u'A': 255, u'R': 223, u'B': 63, u'G': 207}, 188)\n",
      "(9, u'Power', {u'A': 255, u'R': 159, u'B': 127, u'G': 15}, 174)\n",
      "(10, u'Swimming', {u'A': 255, u'R': 63, u'B': 191, u'G': 159}, 163)\n",
      "(11, u'Garden', {u'A': 255, u'R': 223, u'B': 47, u'G': 47}, 137)\n",
      "(12, u'Porch', {u'A': 255, u'R': 79, u'B': 63, u'G': 111}, 122)\n",
      "(13, u'Street', {u'A': 255, u'R': 95, u'B': 15, u'G': 111}, 103)\n",
      "(14, u'Plug', {u'A': 255, u'R': 31, u'B': 223, u'G': 31}, 84)\n",
      "(15, u'Structural', {u'A': 255, u'R': 79, u'B': 79, u'G': 79}, 84)\n",
      "(16, u'Stop', {u'A': 255, u'R': 31, u'B': 223, u'G': 111}, 81)\n",
      "(17, u'driveway', {u'A': 255, u'R': 95, u'B': 31, u'G': 255}, 80)\n",
      "(18, u'Car', {u'A': 255, u'R': 191, u'B': 255, u'G': 47}, 80)\n",
      "(19, u'Floor', {u'A': 255, u'R': 223, u'B': 31, u'G': 175}, 78)\n",
      "(20, u'Cladding', {u'A': 255, u'R': 175, u'B': 223, u'G': 111}, 75)\n",
      "(21, u'Landscape', {u'A': 255, u'R': 0, u'B': 255, u'G': 255}, 75)\n",
      "(22, u'Curtain', {u'A': 255, u'R': 175, u'B': 15, u'G': 47}, 71)\n",
      "(23, u'Inner', {u'A': 255, u'R': 127, u'B': 207, u'G': 191}, 42)\n",
      "(24, u'WorldSettings', {u'A': 255, u'R': 0, u'B': 0, u'G': 0}, 39)\n",
      "(25, u'Chimney', {u'A': 255, u'R': 223, u'B': 255, u'G': 79}, 38)\n",
      "(26, u'Veranda', {u'A': 255, u'R': 159, u'B': 223, u'G': 95}, 32)\n",
      "(27, u'Garage', {u'A': 255, u'R': 223, u'B': 63, u'G': 175}, 25)\n",
      "(28, u'Rock', {u'A': 255, u'R': 47, u'B': 95, u'G': 207}, 21)\n"
     ]
    }
   ],
   "source": [
    "import json\n",
    "with open('class2count.json') as infile:\n",
    "    class2count = json.load(infile)\n",
    "\n",
    "del class2count['Tree']\n",
    "del class2count['Birch']\n",
    "del class2count['Oak']\n",
    "sortedclasses = sorted(class2count.items(), key=lambda x: x[1], reverse=True)\n",
    "\n",
    "with open('neighborhood_classes.json', 'r') as infile:\n",
    "    neighborhood_classes = json.load(infile)\n",
    "    \n",
    "with open('id2color.json', 'r') as infile:\n",
    "    id2color = json.load(infile)\n",
    "\n",
    "class2color = {}\n",
    "for cnt, cls in enumerate(sortedclasses[0:29]):\n",
    "    print(cnt, cls[0], id2color[neighborhood_classes[cls[0]][0]], cls[1])\n",
    "    class2color[cls[0]] = id2color[neighborhood_classes[cls[0]][0]]\n",
    "\n",
    "with open('finalTopClassesToColor.json', 'w') as outfile:\n",
    "    json.dump(class2color, outfile)"
   ]
  },
  {
   "cell_type": "code",
   "execution_count": 44,
   "metadata": {},
   "outputs": [
    {
     "name": "stdout",
     "output_type": "stream",
     "text": [
      "(u'Hedge', {u'B': 175, u'R': 95, u'G': 191})\n",
      "(u'Outer', {u'B': 0, u'R': 191, u'G': 127})\n",
      "(u'Roof', {u'B': 63, u'R': 79, u'G': 255})\n",
      "(u'Road', {u'B': 127, u'R': 95, u'G': 111})\n"
     ]
    }
   ],
   "source": [
    "with open('correct_classes.json') as infile:\n",
    "    correct_classes = json.load(infile)\n",
    "    \n",
    "for kee in correct_classes.keys():\n",
    "    print(kee, correct_classes[kee])"
   ]
  },
  {
   "cell_type": "code",
   "execution_count": null,
   "metadata": {
    "collapsed": true
   },
   "outputs": [],
   "source": []
  }
 ],
 "metadata": {
  "kernelspec": {
   "display_name": "Python [conda env:unrealcv]",
   "language": "python",
   "name": "conda-env-unrealcv-py"
  },
  "language_info": {
   "codemirror_mode": {
    "name": "ipython",
    "version": 2
   },
   "file_extension": ".py",
   "mimetype": "text/x-python",
   "name": "python",
   "nbconvert_exporter": "python",
   "pygments_lexer": "ipython2",
   "version": "2.7.14"
  }
 },
 "nbformat": 4,
 "nbformat_minor": 2
}
