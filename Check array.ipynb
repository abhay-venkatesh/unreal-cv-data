{
 "cells": [
  {
   "cell_type": "code",
   "execution_count": 21,
   "metadata": {},
   "outputs": [
    {
     "name": "stdout",
     "output_type": "stream",
     "text": [
      "(array([156, 208, 212, 217, 220, 223, 224, 227, 228], dtype=int64), array([ 223, 1417, 1403, 1402, 1425, 1426, 1426, 1424, 1421], dtype=int64), array([0, 0, 0, 0, 0, 0, 0, 0, 0], dtype=int64))\n"
     ]
    }
   ],
   "source": [
    "from PIL import Image\n",
    "import numpy as np\n",
    "\n",
    "img = Image.open('./batch/round1/seg0.png')\n",
    "arr = np.asarray(img)\n",
    "arr = arr[:,:,0:1]\n",
    "print(np.where(arr == 35))"
   ]
  },
  {
   "cell_type": "code",
   "execution_count": null,
   "metadata": {
    "collapsed": true
   },
   "outputs": [],
   "source": []
  }
 ],
 "metadata": {
  "kernelspec": {
   "display_name": "Python [conda env:unrealcv]",
   "language": "python",
   "name": "conda-env-unrealcv-py"
  },
  "language_info": {
   "codemirror_mode": {
    "name": "ipython",
    "version": 2
   },
   "file_extension": ".py",
   "mimetype": "text/x-python",
   "name": "python",
   "nbconvert_exporter": "python",
   "pygments_lexer": "ipython2",
   "version": "2.7.14"
  }
 },
 "nbformat": 4,
 "nbformat_minor": 2
}
