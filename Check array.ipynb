{
 "cells": [
  {
   "cell_type": "code",
   "execution_count": 20,
   "metadata": {},
   "outputs": [
    {
     "name": "stdout",
     "output_type": "stream",
     "text": [
      "./batch/round1/seg0.png\n",
      "./batch/round2/seg0.png\n",
      "./batch/round3/seg0.png\n",
      "./batch/round4/seg0.png\n",
      "0\n",
      "16\n",
      "13\n",
      "7\n",
      "20\n",
      "1\n",
      "14\n",
      "21\n",
      "11\n",
      "8\n",
      "5\n",
      "2\n",
      "19\n",
      "15\n",
      "18\n",
      "9\n",
      "6\n",
      "17\n",
      "3\n",
      "Number of classes: 19\n"
     ]
    }
   ],
   "source": [
    "import numpy as np\n",
    "import cv2\n",
    "\n",
    "listclasses = []\n",
    "for i in range(1,5):\n",
    "    img = cv2.imread('./batch/round' + str(i) + '/seg0.png')\n",
    "    print('./batch/round' + str(i) + '/seg0.png')\n",
    "    for k in np.unique(img):\n",
    "        listclasses.append(k)\n",
    "        \n",
    "for l in set(listclasses):\n",
    "    print(l/10)\n",
    "\n",
    "print(\"Number of classes: \" +  str(len(set(listclasses))))\n"
   ]
  },
  {
   "cell_type": "code",
   "execution_count": null,
   "metadata": {
    "collapsed": true
   },
   "outputs": [],
   "source": []
  }
 ],
 "metadata": {
  "kernelspec": {
   "display_name": "Python [conda env:unrealcv]",
   "language": "python",
   "name": "conda-env-unrealcv-py"
  },
  "language_info": {
   "codemirror_mode": {
    "name": "ipython",
    "version": 2
   },
   "file_extension": ".py",
   "mimetype": "text/x-python",
   "name": "python",
   "nbconvert_exporter": "python",
   "pygments_lexer": "ipython2",
   "version": "2.7.14"
  }
 },
 "nbformat": 4,
 "nbformat_minor": 2
}
