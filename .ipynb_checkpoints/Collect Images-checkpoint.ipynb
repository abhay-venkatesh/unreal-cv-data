{
 "cells": [
  {
   "cell_type": "code",
   "execution_count": null,
   "metadata": {
    "collapsed": true
   },
   "outputs": [],
   "source": [
    "from __future__ import division, absolute_import, print_function\n",
    "import os, sys, time, re, json\n",
    "import numpy as np\n",
    "import random\n",
    "import matplotlib.pyplot as plt\n",
    "from PIL import Image\n",
    "\n",
    "imread = plt.imread\n",
    "def imread8(im_file):\n",
    "    ''' Read image as a 8-bit numpy array '''\n",
    "    im = np.asarray(Image.open(im_file))\n",
    "    return im\n",
    "\n",
    "def read_png(res):\n",
    "    img = Image.open(res)\n",
    "    return np.array(img)\n",
    "\n",
    "def read_npy(res):\n",
    "    return np.load(res)\n",
    "\n",
    "# Matches a color from the object_mask and then returns that region color\n",
    "def match_color(object_mask, target_color, tolerance=3):\n",
    "    match_region = np.ones(object_mask.shape[0:2], dtype=bool)\n",
    "    for c in range(3): # r,g,b\n",
    "        min_val = target_color[c] - tolerance\n",
    "        max_val = target_color[c] + tolerance\n",
    "        channel_region = (object_mask[:,:,c] >= min_val) & (object_mask[:,:,c] <= max_val)\n",
    "        match_region &= channel_region\n",
    "\n",
    "    if match_region.sum() != 0:\n",
    "        return match_region\n",
    "    else:\n",
    "        return None\n",
    "    \n",
    "# Swap colors method\n",
    "def swap_color(imgarray, source, dest):\n",
    "    matched_color = match_color(imgarray, [source.R, source.G, source.B])\n",
    "    imgarray[:,:,:3][matched_color] = [dest.R, dest.G, dest.B]\n",
    "    return np.array(imgarray)\n"
   ]
  },
  {
   "cell_type": "markdown",
   "metadata": {},
   "source": [
    "Connect to the game\n",
    "===================\n",
    "Load unrealcv python client, do :code:`pip install unrealcv` first.\n",
    "\n"
   ]
  },
  {
   "cell_type": "code",
   "execution_count": 32,
   "metadata": {},
   "outputs": [
    {
     "name": "stderr",
     "output_type": "stream",
     "text": [
      "INFO:__init__:204:Got connection confirm: 'connected to NeighborhoodCV'\n"
     ]
    }
   ],
   "source": [
    "from unrealcv import client\n",
    "client.connect()\n",
    "if not client.isconnected():\n",
    "    print('UnrealCV server is not running. Run the game downloaded from http://unrealcv.github.io first.')\n",
    "    sys.exit(-1)"
   ]
  },
  {
   "cell_type": "code",
   "execution_count": 33,
   "metadata": {},
   "outputs": [
    {
     "name": "stderr",
     "output_type": "stream",
     "text": [
      "ERROR:__init__:317:Can not receive a response from server, timeout after 5.00 seconds\n"
     ]
    },
    {
     "name": "stdout",
     "output_type": "stream",
     "text": [
      "None\n"
     ]
    }
   ],
   "source": [
    "# Make sure the connection works well\n",
    "\n",
    "res = client.request('vget /unrealcv/status')\n",
    "# The image resolution and port is configured in the config file.\n",
    "print(res)"
   ]
  },
  {
   "cell_type": "markdown",
   "metadata": {},
   "source": [
    "Get objects\n",
    "======================\n",
    "Write a json file with the object and their corresponding classes.\n",
    "\n"
   ]
  },
  {
   "cell_type": "code",
   "execution_count": 12,
   "metadata": {},
   "outputs": [
    {
     "name": "stdout",
     "output_type": "stream",
     "text": [
      "Number of objects in this scene: 3762\n"
     ]
    }
   ],
   "source": [
    "scene_objects = client.request('vget /objects').split(' ')\n",
    "print('Number of objects in this scene:', len(scene_objects))\n",
    "\n",
    "data = {}\n",
    "\n",
    "for obj_id in scene_objects:\n",
    "    obj_id_parts = obj_id.split('_')\n",
    "    class_name = obj_id_parts[0]    \n",
    "    data[obj_id] = class_name\n",
    "\n",
    "# Write JSON file\n",
    "import json\n",
    "with open('neighborhood_classes.json', 'w') as outfile:\n",
    "    json.dump(data, outfile)"
   ]
  },
  {
   "cell_type": "markdown",
   "metadata": {},
   "source": [
    "Get object colors\n",
    "======================\n",
    "Map the objects to their labeling colors"
   ]
  },
  {
   "cell_type": "code",
   "execution_count": 11,
   "metadata": {},
   "outputs": [],
   "source": [
    "class Color(object):\n",
    "    ''' A utility class to parse color value '''\n",
    "    regexp = re.compile('\\(R=(.*),G=(.*),B=(.*),A=(.*)\\)')\n",
    "    def __init__(self, color_str):\n",
    "        self.color_str = color_str\n",
    "        match = self.regexp.match(color_str)\n",
    "        (self.R, self.G, self.B, self.A) = [int(match.group(i)) for i in range(1,5)]\n",
    "\n",
    "    def __repr__(self):\n",
    "        return self.color_str\n",
    "\n",
    "id2color = {}\n",
    "import json\n",
    "with open('id2color.json') as data_file:\n",
    "    data = json.load(data_file)\n",
    "\n",
    "for obj_id in data.keys():\n",
    "    color_map = data[obj_id]\n",
    "    color_str = '(R=' + str(color_map['R']) + ',G=' + \\\n",
    "                str(color_map['G']) + ',B=' + str(color_map['B']) + \\\n",
    "                ',A=' + str(color_map['A']) + ')'\n",
    "    color = Color(color_str)\n",
    "    id2color[obj_id] = color"
   ]
  },
  {
   "cell_type": "markdown",
   "metadata": {},
   "source": [
    "Begin Data Collection\n",
    "======"
   ]
  },
  {
   "cell_type": "code",
   "execution_count": 31,
   "metadata": {},
   "outputs": [
    {
     "name": "stderr",
     "output_type": "stream",
     "text": [
      "ERROR:__init__:223:Fail to send message, client is not connected\n",
      "ERROR:__init__:317:Can not receive a response from server, timeout after 5.00 seconds\n",
      "ERROR:__init__:223:Fail to send message, client is not connected\n"
     ]
    },
    {
     "name": "stdout",
     "output_type": "stream",
     "text": [
      "Batch: 1 , Image: 0\n"
     ]
    },
    {
     "name": "stderr",
     "output_type": "stream",
     "text": [
      "ERROR:__init__:317:Can not receive a response from server, timeout after 5.00 seconds\n",
      "ERROR:__init__:223:Fail to send message, client is not connected\n",
      "ERROR:__init__:317:Can not receive a response from server, timeout after 5.00 seconds\n",
      "ERROR:__init__:223:Fail to send message, client is not connected\n",
      "ERROR:__init__:317:Can not receive a response from server, timeout after 5.00 seconds\n"
     ]
    },
    {
     "ename": "AttributeError",
     "evalue": "'NoneType' object has no attribute 'read'",
     "output_type": "error",
     "traceback": [
      "\u001b[1;31m---------------------------------------------------------------------------\u001b[0m",
      "\u001b[1;31mAttributeError\u001b[0m                            Traceback (most recent call last)",
      "\u001b[1;32m<ipython-input-31-2e7e599c3d5a>\u001b[0m in \u001b[0;36m<module>\u001b[1;34m()\u001b[0m\n\u001b[0;32m     42\u001b[0m         \u001b[1;31m# Get Ground Truth\u001b[0m\u001b[1;33m\u001b[0m\u001b[1;33m\u001b[0m\u001b[0m\n\u001b[0;32m     43\u001b[0m         \u001b[0mres\u001b[0m \u001b[1;33m=\u001b[0m \u001b[0mclient\u001b[0m\u001b[1;33m.\u001b[0m\u001b[0mrequest\u001b[0m\u001b[1;33m(\u001b[0m\u001b[1;34m'vget /camera/0/object_mask png'\u001b[0m\u001b[1;33m)\u001b[0m\u001b[1;33m\u001b[0m\u001b[0m\n\u001b[1;32m---> 44\u001b[1;33m         \u001b[0mobject_mask\u001b[0m \u001b[1;33m=\u001b[0m \u001b[0mread_png\u001b[0m\u001b[1;33m(\u001b[0m\u001b[0mres\u001b[0m\u001b[1;33m)\u001b[0m\u001b[1;33m\u001b[0m\u001b[0m\n\u001b[0m\u001b[0;32m     45\u001b[0m \u001b[1;33m\u001b[0m\u001b[0m\n\u001b[0;32m     46\u001b[0m         \u001b[1;31m# Get all classes in image\u001b[0m\u001b[1;33m\u001b[0m\u001b[1;33m\u001b[0m\u001b[0m\n",
      "\u001b[1;32m<ipython-input-14-feecbc50f4d1>\u001b[0m in \u001b[0;36mread_png\u001b[1;34m(res)\u001b[0m\n\u001b[0;32m     13\u001b[0m \u001b[1;33m\u001b[0m\u001b[0m\n\u001b[0;32m     14\u001b[0m \u001b[1;32mdef\u001b[0m \u001b[0mread_png\u001b[0m\u001b[1;33m(\u001b[0m\u001b[0mres\u001b[0m\u001b[1;33m)\u001b[0m\u001b[1;33m:\u001b[0m\u001b[1;33m\u001b[0m\u001b[0m\n\u001b[1;32m---> 15\u001b[1;33m     \u001b[0mimg\u001b[0m \u001b[1;33m=\u001b[0m \u001b[0mImage\u001b[0m\u001b[1;33m.\u001b[0m\u001b[0mopen\u001b[0m\u001b[1;33m(\u001b[0m\u001b[0mres\u001b[0m\u001b[1;33m)\u001b[0m\u001b[1;33m\u001b[0m\u001b[0m\n\u001b[0m\u001b[0;32m     16\u001b[0m     \u001b[1;32mreturn\u001b[0m \u001b[0mnp\u001b[0m\u001b[1;33m.\u001b[0m\u001b[0marray\u001b[0m\u001b[1;33m(\u001b[0m\u001b[0mimg\u001b[0m\u001b[1;33m)\u001b[0m\u001b[1;33m\u001b[0m\u001b[0m\n\u001b[0;32m     17\u001b[0m \u001b[1;33m\u001b[0m\u001b[0m\n",
      "\u001b[1;32mD:\\Anaconda3\\envs\\unrealcv\\lib\\site-packages\\PIL\\Image.pyc\u001b[0m in \u001b[0;36mopen\u001b[1;34m(fp, mode)\u001b[0m\n\u001b[0;32m   2534\u001b[0m         \u001b[0mfp\u001b[0m\u001b[1;33m.\u001b[0m\u001b[0mseek\u001b[0m\u001b[1;33m(\u001b[0m\u001b[1;36m0\u001b[0m\u001b[1;33m)\u001b[0m\u001b[1;33m\u001b[0m\u001b[0m\n\u001b[0;32m   2535\u001b[0m     \u001b[1;32mexcept\u001b[0m \u001b[1;33m(\u001b[0m\u001b[0mAttributeError\u001b[0m\u001b[1;33m,\u001b[0m \u001b[0mio\u001b[0m\u001b[1;33m.\u001b[0m\u001b[0mUnsupportedOperation\u001b[0m\u001b[1;33m)\u001b[0m\u001b[1;33m:\u001b[0m\u001b[1;33m\u001b[0m\u001b[0m\n\u001b[1;32m-> 2536\u001b[1;33m         \u001b[0mfp\u001b[0m \u001b[1;33m=\u001b[0m \u001b[0mio\u001b[0m\u001b[1;33m.\u001b[0m\u001b[0mBytesIO\u001b[0m\u001b[1;33m(\u001b[0m\u001b[0mfp\u001b[0m\u001b[1;33m.\u001b[0m\u001b[0mread\u001b[0m\u001b[1;33m(\u001b[0m\u001b[1;33m)\u001b[0m\u001b[1;33m)\u001b[0m\u001b[1;33m\u001b[0m\u001b[0m\n\u001b[0m\u001b[0;32m   2537\u001b[0m         \u001b[0mexclusive_fp\u001b[0m \u001b[1;33m=\u001b[0m \u001b[0mTrue\u001b[0m\u001b[1;33m\u001b[0m\u001b[0m\n\u001b[0;32m   2538\u001b[0m \u001b[1;33m\u001b[0m\u001b[0m\n",
      "\u001b[1;31mAttributeError\u001b[0m: 'NoneType' object has no attribute 'read'"
     ]
    }
   ],
   "source": [
    "for batch in range(1,5):\n",
    "\n",
    "    # Get random location\n",
    "    z = 300\n",
    "    x = random.randint(-5000, 5000)\n",
    "    y = random.randint(-5000, 5000)\n",
    "\n",
    "    # Coordinates x, y, z\n",
    "    client.request('vset /camera/0/location ' + str(x) + ' ' + str(y) + \\\n",
    "                   ' ' + str(z)) \n",
    "\n",
    "    # Get 10 shots in a series\n",
    "    angles = []\n",
    "    a = 0\n",
    "    while len(angles) < 20:\n",
    "        angles.append(a)\n",
    "        a -= 3\n",
    "\n",
    "    # Increment height sequentially\n",
    "    heights = []\n",
    "    height = 300\n",
    "    while len(heights) < 20:\n",
    "        heights.append(height)\n",
    "        height += 50\n",
    "\n",
    "    for i,angle in enumerate(angles):\n",
    "        \n",
    "        print(\"Batch: \" + str(batch) + \" , Image: \" + str(i))\n",
    "        \n",
    "        # x, y, z\n",
    "        client.request('vset /camera/0/location ' + str(x) + ' ' + str(y) + \\\n",
    "                       ' ' + str(heights[i])) \n",
    "\n",
    "        # Pitch, yaw, roll\n",
    "        client.request('vset /camera/0/rotation ' + str(angle) + ' 0 0')\n",
    "\n",
    "        \"\"\"\n",
    "        res = client.request('vget /camera/0/object_mask ./batch/round' + \\\n",
    "                             str(batch) + '/lit' + str(i) + '.png')\n",
    "        \n",
    "        print('The image is saved to %s' % res)\n",
    "        \"\"\"\n",
    "        \n",
    "        # Get Ground Truth\n",
    "        res = client.request('vget /camera/0/object_mask png')\n",
    "        object_mask = read_png(res)\n",
    "        \n",
    "        # Get all classes in image\n",
    "        print(\"Getting all classes in image....\")\n",
    "        id2mask = {}\n",
    "        for obj_id in scene_objects:\n",
    "            color = id2color[obj_id]\n",
    "            mask = match_color(object_mask, [color.R, color.G, color.B], tolerance = 3)\n",
    "            if mask is not None:\n",
    "                id2mask[obj_id] = mask\n",
    "        \n",
    "        print(\"Got all classes in image.\")\n",
    "\n",
    "        \"\"\"\n",
    "        Group classes together\n",
    "        \"\"\" \n",
    "        class_groups = {}\n",
    "\n",
    "        # Go through the matched objects\n",
    "        for idmask in id2mask.keys():\n",
    "\n",
    "            # Get the class from the data object we had earlier for json file\n",
    "            curr_class = data[idmask]\n",
    "\n",
    "            # If the class is not in the class_groups map, add it\n",
    "            if curr_class not in class_groups:\n",
    "                class_groups[curr_class] = [] \n",
    "\n",
    "            # Add the idmask to it's corresponding class\n",
    "            class_groups[curr_class].append(idmask)\n",
    "\n",
    "\n",
    "        # Normalize by class\n",
    "        for cls in class_groups.keys():\n",
    "            class_base = class_groups[cls][0]\n",
    "            class_color = id2color[class_base]\n",
    "            for class_id in class_groups[cls]:\n",
    "                current_color = id2color[class_id]\n",
    "                object_mask = swap_color(object_mask, current_color, class_color) \n",
    "        \n",
    "        # Write to file\n",
    "        print(object_mask.shape)\n",
    "        normalized_img = Image.fromarray(object_mask)\n",
    "\n",
    "        directory = './batch/round' + str(batch) + '/'\n",
    "        if not os.path.exists(directory):\n",
    "            os.makedirs(directory)\n",
    "        \n",
    "        normalized_img.save('./batch/round' + str(batch) + '/seg' + \\\n",
    "                            str(i) + '.png')\n",
    "        \n",
    "        res = client.request('vget /camera/0/lit png')\n",
    "        normal = read_png(res)\n",
    "        print(normal.shape)\n",
    "        normal = Image.fromarray(normal)\n",
    "        \n",
    "        normal.save('./batch/round' + str(batch) + '/pic' + \\\n",
    "                            str(i) + '.png')\n",
    "        \n",
    "        print(\"Images written. \")\n"
   ]
  },
  {
   "cell_type": "code",
   "execution_count": null,
   "metadata": {
    "collapsed": true
   },
   "outputs": [],
   "source": []
  }
 ],
 "metadata": {
  "kernelspec": {
   "display_name": "unrealcv",
   "language": "python",
   "name": "unrealcv"
  },
  "language_info": {
   "codemirror_mode": {
    "name": "ipython",
    "version": 2
   },
   "file_extension": ".py",
   "mimetype": "text/x-python",
   "name": "python",
   "nbconvert_exporter": "python",
   "pygments_lexer": "ipython2",
   "version": "2.7.14"
  }
 },
 "nbformat": 4,
 "nbformat_minor": 2
}
