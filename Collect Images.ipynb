{
 "cells": [
  {
   "cell_type": "code",
   "execution_count": 5,
   "metadata": {
    "collapsed": true
   },
   "outputs": [],
   "source": [
    "from __future__ import division, absolute_import, print_function\n",
    "import os, sys, time, re, json\n",
    "import numpy as np\n",
    "import matplotlib.pyplot as plt\n",
    "from PIL import Image\n",
    "\n",
    "imread = plt.imread\n",
    "def imread8(im_file):\n",
    "    ''' Read image as a 8-bit numpy array '''\n",
    "    im = np.asarray(Image.open(im_file))\n",
    "    return im\n",
    "\n",
    "def read_png(res):\n",
    "    img = Image.open(res)\n",
    "    return np.array(img)\n",
    "\n",
    "def read_npy(res):\n",
    "    return np.load(res)\n",
    "\n",
    "# Matches a color from the object_mask and then returns that region color\n",
    "def match_color(object_mask, target_color, tolerance=3):\n",
    "    match_region = np.ones(object_mask.shape[0:2], dtype=bool)\n",
    "    for c in range(3): # r,g,b\n",
    "        min_val = target_color[c] - tolerance\n",
    "        max_val = target_color[c] + tolerance\n",
    "        channel_region = (object_mask[:,:,c] >= min_val) & (object_mask[:,:,c] <= max_val)\n",
    "        match_region &= channel_region\n",
    "\n",
    "    if match_region.sum() != 0:\n",
    "        return match_region\n",
    "    else:\n",
    "        return None\n",
    "    \n",
    "# Swap colors method\n",
    "def swap_color(imgarray, source, dest):\n",
    "    matched_color = match_color(imgarray, [source.R, source.G, source.B])\n",
    "    imgarray[:,:,:3][matched_color] = [dest.R, dest.G, dest.B]\n",
    "    return np.array(imgarray)\n"
   ]
  },
  {
   "cell_type": "markdown",
   "metadata": {},
   "source": [
    "Connect to the game\n",
    "===================\n",
    "Load unrealcv python client, do :code:`pip install unrealcv` first.\n",
    "\n"
   ]
  },
  {
   "cell_type": "code",
   "execution_count": null,
   "metadata": {
    "collapsed": true
   },
   "outputs": [],
   "source": [
    "from unrealcv import client\n",
    "client.connect()\n",
    "if not client.isconnected():\n",
    "    print('UnrealCV server is not running. Run the game downloaded from http://unrealcv.github.io first.')\n",
    "    sys.exit(-1)"
   ]
  },
  {
   "cell_type": "code",
   "execution_count": null,
   "metadata": {
    "collapsed": true
   },
   "outputs": [],
   "source": [
    "# Make sure the connection works well\n",
    "\n",
    "res = client.request('vget /unrealcv/status')\n",
    "# The image resolution and port is configured in the config file.\n",
    "print(res)"
   ]
  },
  {
   "cell_type": "markdown",
   "metadata": {},
   "source": [
    "Get objects\n",
    "======================\n",
    "Write a json file with the object and their corresponding classes.\n",
    "\n"
   ]
  },
  {
   "cell_type": "code",
   "execution_count": null,
   "metadata": {
    "collapsed": true
   },
   "outputs": [],
   "source": [
    "scene_objects = client.request('vget /objects').split(' ')\n",
    "print('Number of objects in this scene:', len(scene_objects))\n",
    "\n",
    "data = {}\n",
    "\n",
    "for obj_id in scene_objects:\n",
    "    obj_id_parts = obj_id.split('_')\n",
    "    class_name = obj_id_parts[0]    \n",
    "    data[obj_id] = class_name\n",
    "\n",
    "# Write JSON file\n",
    "import json\n",
    "with open('neighborhood_classes.json', 'w') as outfile:\n",
    "    json.dump(data, outfile)"
   ]
  },
  {
   "cell_type": "markdown",
   "metadata": {},
   "source": [
    "Get object colors\n",
    "======================\n",
    "Map the objects to their labeling colors"
   ]
  },
  {
   "cell_type": "code",
   "execution_count": 7,
   "metadata": {},
   "outputs": [
    {
     "name": "stdout",
     "output_type": "stream",
     "text": [
      "3762\n"
     ]
    }
   ],
   "source": [
    "class Color(object):\n",
    "    ''' A utility class to parse color value '''\n",
    "    regexp = re.compile('\\(R=(.*),G=(.*),B=(.*),A=(.*)\\)')\n",
    "    def __init__(self, color_str):\n",
    "        self.color_str = color_str\n",
    "        match = self.regexp.match(color_str)\n",
    "        (self.R, self.G, self.B, self.A) = [int(match.group(i)) for i in range(1,5)]\n",
    "\n",
    "    def __repr__(self):\n",
    "        return self.color_str\n",
    "\n",
    "id2color = {}\n",
    "import json\n",
    "with open('id2color.json') as data_file:\n",
    "    data = json.load(data_file)\n",
    "\n",
    "for obj_id in data.keys():\n",
    "    color_map = data[obj_id]\n",
    "    color_str = '(R=' + str(color_map['R']) + ',G=' + \\\n",
    "                str(color_map['G']) + ',B=' + str(color_map['B']) + \\\n",
    "                ',A=' + str(color_map['A']) + ')'\n",
    "    color = Color(color_str)\n",
    "    id2color[obj_id] = color"
   ]
  },
  {
   "cell_type": "code",
   "execution_count": null,
   "metadata": {
    "collapsed": true
   },
   "outputs": [],
   "source": [
    "for batch in range(1,5):\n",
    "\n",
    "    # Get random location\n",
    "    z = 300\n",
    "    x = random.randint(-5000, 5000)\n",
    "    y = random.randint(-5000, 5000)\n",
    "\n",
    "    # Coordinates x, y, z\n",
    "    client.request('vset /camera/0/location ' + str(x) + ' ' + str(y) + \\\n",
    "                   ' ' + str(z)) \n",
    "\n",
    "    # Get 10 shots in a series\n",
    "    angles = []\n",
    "    a = 0\n",
    "    while len(angles) < 20:\n",
    "        angles.append(a)\n",
    "        a -= 3\n",
    "\n",
    "    # Increment height sequentially\n",
    "    heights = []\n",
    "    height = 300\n",
    "    while len(heights) < 20:\n",
    "        heights.append(height)\n",
    "        height += 50\n",
    "\n",
    "    for i,angle in enumerate(angles):\n",
    "        \n",
    "        # x, y, z\n",
    "        client.request('vset /camera/0/location ' + str(x) + ' ' + str(y) + \\\n",
    "                       ' ' + str(heights[i])) \n",
    "\n",
    "        # Pitch, yaw, roll\n",
    "        client.request('vset /camera/0/rotation ' + str(angle) + ' 0 0')\n",
    "\n",
    "        \"\"\"\n",
    "        res = client.request('vget /camera/0/object_mask ./batch/round' + \\\n",
    "                             str(batch) + '/lit' + str(i) + '.png')\n",
    "        \n",
    "        print('The image is saved to %s' % res)\n",
    "        \"\"\"\n",
    "        \n",
    "        # Get Ground Truth\n",
    "        res = client.request('vget /camera/0/object_mask png')\n",
    "        object_mask = read_png(res)\n",
    "        \n",
    "        # Get all classes in image\n",
    "        id2mask = {}\n",
    "        for obj_id in scene_objects:\n",
    "            print(obj_id)\n",
    "            color = id2color[obj_id]\n",
    "            mask = match_color(object_mask, [color.R, color.G, color.B], tolerance = 3)\n",
    "            if mask is not None:\n",
    "                id2mask[obj_id] = mask\n",
    "\n",
    "        \"\"\"\n",
    "        Group classes together\n",
    "        \"\"\" \n",
    "        class_groups = {}\n",
    "\n",
    "        # Go through the matched objects\n",
    "        for idmask in id2mask.keys():\n",
    "\n",
    "            # Get the class from the data object we had earlier for json file\n",
    "            curr_class = data[idmask]\n",
    "\n",
    "            # If the class is not in the class_groups map, add it\n",
    "            if curr_class not in class_groups:\n",
    "                class_groups[curr_class] = [] \n",
    "\n",
    "            # Add the idmask to it's corresponding class\n",
    "            class_groups[curr_class].append(idmask)\n",
    "\n",
    "        for class_group in class_groups.keys():\n",
    "            print(class_group)\n",
    "        \n",
    "        # Normalize by class\n",
    "        for cls in class_groups.keys():\n",
    "\n",
    "            class_base = class_groups[cls][0]\n",
    "            class_color = id2color[class_base]\n",
    "\n",
    "            print(\"class: \" + cls + \", color: \" + str(class_color))\n",
    "\n",
    "            for class_id in class_groups[cls]:\n",
    "\n",
    "                current_color = id2color[class_id]\n",
    "                print(current_color)\n",
    "                object_mask = swap_color(object_mask, current_color, class_color) \n",
    "        \n",
    "        # Write to file\n",
    "        normalized_img = Image.fromarray(object_mask)\n",
    "        normalized_img.save('./batch/round' + str(batch) + '/lit' + \\\n",
    "                            str(i) + '.png')"
   ]
  }
 ],
 "metadata": {
  "kernelspec": {
   "display_name": "unrealcv",
   "language": "python",
   "name": "unrealcv"
  },
  "language_info": {
   "codemirror_mode": {
    "name": "ipython",
    "version": 2
   },
   "file_extension": ".py",
   "mimetype": "text/x-python",
   "name": "python",
   "nbconvert_exporter": "python",
   "pygments_lexer": "ipython2",
   "version": "2.7.14"
  }
 },
 "nbformat": 4,
 "nbformat_minor": 2
}
